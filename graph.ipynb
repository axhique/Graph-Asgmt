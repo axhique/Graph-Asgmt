{
  "metadata": {
    "language_info": {
      "codemirror_mode": {
        "name": "python",
        "version": 3
      },
      "file_extension": ".py",
      "mimetype": "text/x-python",
      "name": "python",
      "nbconvert_exporter": "python",
      "pygments_lexer": "ipython3",
      "version": "3.8"
    },
    "kernelspec": {
      "name": "python",
      "display_name": "Python (Pyodide)",
      "language": "python"
    }
  },
  "nbformat_minor": 4,
  "nbformat": 4,
  "cells": [
    {
      "cell_type": "code",
      "source": "def bfs(graph,node):\n\n    visited = [False] * (len(graph))\n\n    queue = []\n    visited.append(node)\n    queue.append(node)\n\n    while queue:\n        v = queue.pop(0)\n        print(v, end=\" \")\n\n        for neigh in graph[v]:\n            if neigh not in visited:\n                visited.append(neigh)\n                queue.append(neigh)\n                \n\ngraph = {\n    'A': ['B', 'C', 'D'],\n    'B': ['A'],\n    'C': ['A', 'D'],\n    'D': ['A', 'C', 'E'],\n    'E': ['D'],\n}\nbfs(graph,'A')\n\n ",
      "metadata": {
        "trusted": true
      },
      "execution_count": 2,
      "outputs": [
        {
          "name": "stdout",
          "text": "A B C D E ",
          "output_type": "stream"
        }
      ]
    },
    {
      "cell_type": "code",
      "source": "def dfs(visited, graph, node):\n    if node not in visited:\n        print (node,end=\" \")\n        visited.add(node)\n        for neighbour in graph[node]:\n            dfs(visited, graph, neighbour)\n            \n            \nvisited = set() \n\ngraph = {\n    'A' : ['B','C'],\n    'B' : ['D', 'E'],\n    'C' : ['F'],\n    'D' : [],\n    'E' : ['F'],\n    'F' : []\n}\n\ndfs(visited, graph, 'A')",
      "metadata": {
        "trusted": true
      },
      "execution_count": 4,
      "outputs": [
        {
          "name": "stdout",
          "text": "A B D E F C ",
          "output_type": "stream"
        }
      ]
    },
    {
      "cell_type": "code",
      "source": "from collections import deque\n  \nadj = [[] for i in range(1001)]\n  \ndef addEdge(v, w):  \n    adj[v].append(w)\n    adj[w].append(v)\n    \n    \ndef BFS(s, l):\n    V = 100 \n    visited = [False] * V\n    level = [0] * V\n  \n    for i in range(V):\n        visited[i] = False\n        level[i] = 0\n  \n    queue = deque()\n  \n    visited[s] = True\n    queue.append(s)\n    level[s] = 0\n  \n    while (len(queue) > 0):\n        s = queue.popleft()\n  \n        for i in adj[s]:\n            if (not visited[i]):\n                level[i] = level[s] + 1\n                visited[i] = True\n                queue.append(i)\n  \n    count = 0\n    for i in range(V):\n        if (level[i] == l):\n            count += 1\n             \n    return count\n  \n\naddEdge(0, 1)\naddEdge(0, 2)\naddEdge(1, 3)\naddEdge(2, 4)\naddEdge(2, 5)\n\nlevel = 2\n\nprint(BFS(0, level))\n\n",
      "metadata": {
        "trusted": true
      },
      "execution_count": 5,
      "outputs": [
        {
          "name": "stdout",
          "text": "3\n",
          "output_type": "stream"
        }
      ]
    },
    {
      "cell_type": "code",
      "source": "def addEdge(adj, u, v):\n    adj[u].append(v)\n    adj[v].append(u)\n    \n    \ndef DFSUtil(u, adj, visited):\n    visited[u] = True\n    for i in range(len(adj[u])):\n        if (visited[adj[u][i]] == False):\n            DFSUtil(adj[u][i], adj, visited)\n\ndef countTrees(adj, V):\n    visited = [False] * V\n    res = 0\n    for u in range(V):\n        if (visited[u] == False):\n            DFSUtil(u, adj, visited)\n            res += 1\n    return res\n \n\nV = 5\nadj = [[] for i in range(V)]\naddEdge(adj, 0, 1)\naddEdge(adj, 0, 2)\naddEdge(adj, 3, 4)\nprint(countTrees(adj, V))\n",
      "metadata": {
        "trusted": true
      },
      "execution_count": 6,
      "outputs": [
        {
          "name": "stdout",
          "text": "2\n",
          "output_type": "stream"
        }
      ]
    },
    {
      "cell_type": "code",
      "source": "from collections import defaultdict\n  \nclass Graph():\n    def __init__(self, vertices):\n        self.graph = defaultdict(list)\n        self.V = vertices\n  \n    def addEdge(self, u, v):\n        self.graph[u].append(v)\n  \n    def isCyclicUtil(self, v, visited, recStack):\n        visited[v] = True\n        recStack[v] = True\n\n        for neighbour in self.graph[v]:\n            if visited[neighbour] == False:\n                if self.isCyclicUtil(neighbour, visited, recStack) == True:\n                    return True\n            elif recStack[neighbour] == True:\n                return True\n        recStack[v] = False\n        return False\n  \n    def isCyclic(self):\n        visited = [False] * self.V\n        recStack = [False] * self.V\n        for node in range(self.V):\n            if visited[node] == False:\n                if self.isCyclicUtil(node, visited, recStack) == True:\n                    return True\n        return False\n\n    \n    \ng = Graph(4)\ng.addEdge(0, 1)\ng.addEdge(0, 2)\ng.addEdge(1, 2)\ng.addEdge(2, 0)\ng.addEdge(2, 3)\ng.addEdge(3, 3)\n\nif g.isCyclic() == 1:\n    print (\"Graph is a cycle\")\nelse:\n    print (\"Graph is no cycle\")",
      "metadata": {
        "trusted": true
      },
      "execution_count": 8,
      "outputs": [
        {
          "name": "stdout",
          "text": "Graph is a cycle\n",
          "output_type": "stream"
        }
      ]
    },
    {
      "cell_type": "code",
      "source": "",
      "metadata": {},
      "execution_count": null,
      "outputs": []
    }
  ]
}